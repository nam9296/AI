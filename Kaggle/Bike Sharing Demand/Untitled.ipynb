{
 "cells": [
  {
   "cell_type": "markdown",
   "metadata": {},
   "source": [
    "return값  /   time    /    위치 좌표 (위도0)/ 위치좌표 (경도)   /   습도      /  온도      /   날씨 정보   /\n",
    "assault   /2021-05-15     /   12131321   / 1 321 32 15     /    5546   /     34.8     / sunny         /\n",
    "assault   /2021-05-15     /   12131321   / 1 321 32 15     /    5546   /     34.8     / sunny         /\n",
    "assault   /2021-05-15     /   12131321   / 1 321 32 15     /    5546   /     34.8     / sunny         /\n",
    "normal   /2021-05-15     /   12131321   / 1 321 32 15     /    5546   /     34.8     / sunny / rain /  heavy hot        /\n",
    "무조건 논문을 통해서 정해야할듯 ..\n",
    "그걸통해서 가짜데이터를 만든후\n",
    "def model ( cctv_data , weather_data):\n",
    "    return x\n",
    "### 근데 아 뭐 2015 - 05 -19 날 보니까 이전에 있었던 경험을 토데로 예측해보니 싸울 확률이 80프로 이상이다 < - ML\n",
    "(제일 원하는 방법)\n",
    "이거 근데 사용하려면 나중에\n",
    "확률인데  * 100 = > 92  93  <-수치가 = 폭력지수다\n",
    "\n",
    "\n",
    "다 별로 결과가 안좋다 하면\n",
    "1. 있는 불쾌지수를 표기하는정도만 코드를 def로 만들어서 return후 api 화시켜서 웹에 표시\n",
    "    -> 이거는 db를 사용할 필요없이 데이터셋 구축시 날씨정보만 있으면 됨    (이게 real 최악의 방법)\n",
    "2.  결과물을 폭력 지수 로 끝낼꺼면 예측 안해도됨 이건 제생각\n",
    "아 eda해보니까 사실은 논문기반이긴하나\n",
    "\n",
    "\n",
    "\n",
    "assault와 온도의 상관계수는 0.3\n",
    "assault와 습도의 상관계수는 0.4\n",
    "assault와 날씨정보의 상관계수는 1\n",
    "dh\n",
    "그냥 불러온 날씨데이터\n",
    "습도 * 0.4 + 날씨정보 *2  + 42(온도 *0.3 )= 폭력지수"
   ]
  },
  {
   "cell_type": "code",
   "execution_count": null,
   "metadata": {},
   "outputs": [],
   "source": [
    "1. 실시간으로 폭력데이터를 받는다고 가정하면 \n",
    "\n",
    "\n",
    "-> \n",
    "\n",
    "어짜피 주간에 일어날 폭력성을 대비하는건데 \n",
    "\n",
    "이게 새로 들어오는 cctv db랑 관련이 없지않을까 ?\n",
    "\n",
    "\n",
    "\n",
    "\n",
    "\n",
    "def fuct (weather):\n",
    "    \n",
    "    \n",
    "    \n",
    "    return"
   ]
  },
  {
   "cell_type": "code",
   "execution_count": null,
   "metadata": {},
   "outputs": [],
   "source": [
    "\n",
    "\n",
    "\n",
    "1. 폭력가능성에 대한 fuction \n",
    "\n",
    "2. 날씨정보를 자동 전처리시키는 코드 \n",
    "\n",
    "\n",
    "\n",
    "날씨정보를 자동 전처리시키는 코드  \n",
    "    - 드려야되는 양식 -> 일단은 빅데이터쪽 대로 \n",
    "    \n",
    "            \n",
    "\n"
   ]
  }
 ],
 "metadata": {
  "kernelspec": {
   "display_name": "Python 3",
   "language": "python",
   "name": "python3"
  },
  "language_info": {
   "codemirror_mode": {
    "name": "ipython",
    "version": 3
   },
   "file_extension": ".py",
   "mimetype": "text/x-python",
   "name": "python",
   "nbconvert_exporter": "python",
   "pygments_lexer": "ipython3",
   "version": "3.8.3"
  }
 },
 "nbformat": 4,
 "nbformat_minor": 4
}
